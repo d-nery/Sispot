{
 "cells": [
  {
   "cell_type": "code",
   "execution_count": 8,
   "metadata": {},
   "outputs": [],
   "source": [
    "import numpy as np\n",
    "\n",
    "from cmath import rect, exp, polar\n",
    "from math import radians, acos, inf\n",
    "\n",
    "CASO = \"000\""
   ]
  },
  {
   "cell_type": "code",
   "execution_count": 11,
   "metadata": {},
   "outputs": [],
   "source": [
    "# Fonte de tensão do equivalente de Thevenin do nó da subestação\n",
    "VthA = 13800 / (3 ** 0.5) + 0j\n",
    "#VthB = VthA * rect(1, radians(-120))\n",
    "#VthC = VthA * rect(1, radians(120))\n",
    "\n",
    "# Impedância do equivalente de Thevenin do nó da subestação\n",
    "Zth = (VthA ** 2)\n",
    "Zth /= (10e8 / 3) * exp(-radians(80) * 1j)\n",
    "\n",
    "IthA = VthA / Zth\n",
    "#IthB = VthB / Zth\n",
    "#IthC = VthC / Zth\n",
    "\n",
    "Yth = 1 / Zth\n",
    "\n",
    "Rmax = 10\n",
    "\n",
    "exec(open(f\"data/CAR{CASO}.py\", \"r\").read())\n",
    "exec(open(f\"data/TOP{CASO}.py\", \"r\").read())\n",
    "exec(open(f\"data/VOL{CASO}.py\", \"r\").read())\n",
    "\n",
    "cargas    = np.array(cargas)\n",
    "Emedido   = np.array(Emedido)\n",
    "topologia = np.array(topologia)\n",
    "\n",
    "Zcarga = np.array([0 + 0j] * len(cargas))"
   ]
  },
  {
   "cell_type": "code",
   "execution_count": 16,
   "metadata": {},
   "outputs": [
    {
     "name": "stdout",
     "output_type": "stream",
     "text": [
      "001, 10, 20, 49.00, 9.40, 0.00068\n",
      "002, 10, 20, 49.00, 7.30, 0.00060\n",
      "003, 10, 20, 10.00, 1.80, 0.00119\n",
      "004, 10, 20, 49.00, 2.80, 0.00051\n",
      "005, 10, 20, 49.00, 1.10, 0.00232\n",
      "006, 10, 20, 49.00, 3.10, 0.00104\n",
      "007, 10, 20, 49.00, 4.20, 0.00289\n",
      "008, 10, 20, 49.00, 7.00, 0.00179\n",
      "009, 10, 20, 49.00, 4.50, 0.00198\n",
      "010, 10, 20, 49.00, 6.10, 0.00219\n"
     ]
    }
   ],
   "source": [
    "#resultado = np.array([])\n",
    "#resposta  = np.array([])\n",
    "\n",
    "#ultima_posicao = len(topologia) + 2\n",
    "#ultima_posicao *= 3\n",
    "\n",
    "for caso in range(len(Emedido)):\n",
    "    E10meas = Emedido[caso, 1] + 1j * Emedido[caso, 2]\n",
    "    \n",
    "    for i in range(len(cargas)):\n",
    "        Zcarga[i] = (13800 ** 2)\n",
    "        Zcarga[i] /= 1000 * complex(cargas[i, 1], -cargas[i, 1] * tan(acos(cargas[i, 2])))\n",
    "        \n",
    "    # Teste do trecho 10-20\n",
    "    # 1) Inicialização da função a ser otimizada\n",
    "    funcao = np.inf\n",
    "    for rf in np.arange(0.1, Rmax + 0.05, 0.1):\n",
    "        for x in np.arange(1, topologia[0, 2]):\n",
    "            # 2) Montagem da matriz Ybus\n",
    "            # Posição 1 ( linha e/ou coluna da matriz ) -> equivale ao nó 10\n",
    "            # Posição 2 ( linha e/ou coluna da matriz ) -> equivale ao nó 20\n",
    "            # Posição 3 ( linha e/ou coluna da matriz ) -> equivale ao nó 30\n",
    "            # Posição 4 ( linha e/ou coluna da matriz ) -> equivale ao nó 40\n",
    "            # Posição 5 ( linha e/ou coluna da matriz ) -> equivale ao nó de falta\n",
    "  \n",
    "            dist1 = topologia[0, 2]\n",
    "            raa1 = topologia[0, 3]\n",
    "            xaa1 = topologia[0, 4]\n",
    "            rxaa1 = raa1 + 1j * xaa1\n",
    "            \n",
    "            dist2 = topologia[1, 2]\n",
    "            raa2 = topologia[1, 3]\n",
    "            xaa2 = topologia[1, 4]\n",
    "            rxaa2 = raa2 + 1j * xaa2\n",
    "            \n",
    "            dist3 = topologia[2, 2]\n",
    "            raa3 = topologia[2, 3]\n",
    "            xaa3 = topologia[2, 4]\n",
    "            rxaa3 = raa3 + 1j * xaa3\n",
    "            \n",
    "            Ybus = np.zeros((5, 5), complex)\n",
    "            Ybus[0, 0] = Yth + 1 / (x * rxaa1)\n",
    "            Ybus[0, 1] = 0\n",
    "            Ybus[0, 2] = 0\n",
    "            Ybus[0, 3] = 0\n",
    "            Ybus[0, 4] = -1 / (x * rxaa1)\n",
    "                \n",
    "            Ybus[1, 0] =  Ybus[0, 1] \n",
    "            Ybus[1, 1] =  1 / ((dist1 - x) * rxaa1) + 1 / Zcarga[0] + 1 / (dist2 * rxaa2) + 1 / (dist3 * rxaa3)\n",
    "            Ybus[1, 2] = -1 / (dist2 * rxaa2)\n",
    "            Ybus[1, 3] = -1 / (dist3 * rxaa3)\n",
    "            Ybus[1, 4] = -1 / ((dist1 - x) * rxaa1)\n",
    "            \n",
    "            Ybus[2, 0] = Ybus[0, 2]\n",
    "            Ybus[2, 1] = Ybus[1, 2]\n",
    "            Ybus[2, 2] = 1 / Zcarga[1] + 1 / (dist2 * rxaa2)\n",
    "            Ybus[2, 3] = 0\n",
    "            Ybus[2, 4] = 0\n",
    "            \n",
    "            Ybus[3, 0] = Ybus[0, 3]\n",
    "            Ybus[3, 1] = Ybus[1, 3]\n",
    "            Ybus[3, 2] = Ybus[2, 3]\n",
    "            Ybus[3, 3] = 1 / Zcarga[2] + 1 / (dist3 * rxaa3)\n",
    "            Ybus[3, 4] = 0\n",
    "            \n",
    "            Ybus[4, 0] = Ybus[0, 4]\n",
    "            Ybus[4, 1] = Ybus[1, 4]            \n",
    "            Ybus[4, 2] = Ybus[2, 4]            \n",
    "            Ybus[4, 3] = Ybus[3, 4]\n",
    "            Ybus[4, 4] = 1 / (x * rxaa1) + 1 / rf + 1 / ((dist1 - x) * rxaa1)      \n",
    "            \n",
    "            # 3) Cálculo das tensões nodais\n",
    "            E       = np.linalg.solve(Ybus, np.array([[IthA], [0], [0], [0], [0]]))\n",
    "            E10calc = E[0, 0]\n",
    "            \n",
    "            funcao_old = abs(E10meas - E10calc)/abs(E10meas)\n",
    "            if funcao_old < funcao:\n",
    "                xcalc = x\n",
    "                rcalc = rf\n",
    "                funcao = funcao_old\n",
    "    print(f\"{caso + 1:03d}, 10, 20, {xcalc:.2f}, {rcalc:.2f}, {funcao:.5f}\")"
   ]
  },
  {
   "cell_type": "code",
   "execution_count": 13,
   "metadata": {},
   "outputs": [
    {
     "data": {
      "text/plain": [
       "(0.033069558954890235+0.18754678848364492j)"
      ]
     },
     "execution_count": 13,
     "metadata": {},
     "output_type": "execute_result"
    }
   ],
   "source": [
    "Zth"
   ]
  },
  {
   "cell_type": "code",
   "execution_count": 1,
   "metadata": {},
   "outputs": [
    {
     "ename": "NameError",
     "evalue": "name 'Emedido' is not defined",
     "output_type": "error",
     "traceback": [
      "\u001b[0;31m---------------------------------------------------------------------------\u001b[0m",
      "\u001b[0;31mNameError\u001b[0m                                 Traceback (most recent call last)",
      "\u001b[0;32m<ipython-input-1-ef8a3ea4c2aa>\u001b[0m in \u001b[0;36m<module>\u001b[0;34m\u001b[0m\n\u001b[0;32m----> 1\u001b[0;31m \u001b[0mEmedido\u001b[0m\u001b[0;34m[\u001b[0m\u001b[0;36m0\u001b[0m\u001b[0;34m]\u001b[0m\u001b[0;34m\u001b[0m\u001b[0;34m\u001b[0m\u001b[0m\n\u001b[0m",
      "\u001b[0;31mNameError\u001b[0m: name 'Emedido' is not defined"
     ]
    }
   ],
   "source": [
    "Emedido[0]"
   ]
  }
 ],
 "metadata": {
  "kernelspec": {
   "display_name": "Python 3",
   "language": "python",
   "name": "python3"
  },
  "language_info": {
   "codemirror_mode": {
    "name": "ipython",
    "version": 3
   },
   "file_extension": ".py",
   "mimetype": "text/x-python",
   "name": "python",
   "nbconvert_exporter": "python",
   "pygments_lexer": "ipython3",
   "version": "3.7.3"
  }
 },
 "nbformat": 4,
 "nbformat_minor": 2
}
